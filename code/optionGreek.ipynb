{
 "cells": [
  {
   "cell_type": "code",
   "execution_count": null,
   "metadata": {},
   "outputs": [],
   "source": [
    "from ibapi.client import *\n",
    "from ibapi.wrapper import *\n",
    "import pandas as pd"
   ]
  },
  {
   "cell_type": "code",
   "execution_count": null,
   "metadata": {},
   "outputs": [],
   "source": [
    "def getOptionGreek(contract, data):\n",
    "\n",
    "    class TestApp(EClient, EWrapper):\n",
    "        def __init__(self):\n",
    "            EClient.__init__(self, self)\n",
    "            self.DELTA = None\n",
    "            self.GAMMA = None\n",
    "            self.OPTION_PRICE = None\n",
    "            self.UNDERLYING = None\n",
    "\n",
    "        def nextValidId(self, orderId: int):\n",
    "            mycontract = contract\n",
    "            self.reqMarketDataType(4)\n",
    "            self.reqMktData(orderId, mycontract, \"101\", 0, 0, [])\n",
    "\n",
    "        def tickOptionComputation(self, reqId: TickerId, tickType: TickType, tickAttrib: int, impliedVol: float, delta: float, optPrice: float, pvDividend: float, gamma: float, vega: float, theta: float, undPrice: float):\n",
    "            super().tickOptionComputation(reqId, tickType, tickAttrib, impliedVol, delta, optPrice, pvDividend, gamma, vega, theta, undPrice)\n",
    "            print(\"TickOptionComputation. TickerId:\", reqId, \"TickType:\", tickType,\n",
    "                   \"TickAttrib:\", intMaxString(tickAttrib),\n",
    "                   \"ImpliedVolatility:\", floatMaxString(impliedVol), \"Delta:\", floatMaxString(delta), \"OptionPrice:\",\n",
    "                   floatMaxString(optPrice), \"pvDividend:\", floatMaxString(pvDividend), \"Gamma: \", floatMaxString(gamma), \"Vega:\", floatMaxString(vega),\n",
    "                  \"Theta:\", floatMaxString(theta), \"UnderlyingPrice:\", floatMaxString(undPrice))\n",
    "            \n",
    "            self.GAMMA = gamma\n",
    "            self.DELTA = delta\n",
    "            self.OPTION_PRICE = optPrice\n",
    "            self.UNDERLYING = undPrice\n",
    "            # if (self.DELTA != None and self.DELTA > 0 and self.GAMMA != None and self.GAMMA > 0):\n",
    "                # self.disconnect()\n",
    "                # pass\n",
    "            \n",
    "            temp = {\n",
    "                \"GAMMA\": self.GAMMA,\n",
    "                \"DELTA\": self.DELTA,\n",
    "                \"OPTION PRICE\": self.OPTION_PRICE,\n",
    "                \"UNDERLYING PRICE\": self.UNDERLYING\n",
    "            }\n",
    "            data.append(temp)\n",
    "\n",
    "            \n",
    "\n",
    "    app = TestApp()\n",
    "    app.connect(\"127.0.0.1\", 7497, 1200)\n",
    "    app.run()\n",
    "\n",
    "    return app"
   ]
  }
 ],
 "metadata": {
  "language_info": {
   "name": "python"
  }
 },
 "nbformat": 4,
 "nbformat_minor": 2
}
