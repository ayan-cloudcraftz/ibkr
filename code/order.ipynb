{
 "cells": [
  {
   "cell_type": "code",
   "execution_count": null,
   "metadata": {},
   "outputs": [],
   "source": [
    "from ib_insync import *"
   ]
  },
  {
   "cell_type": "markdown",
   "metadata": {},
   "source": [
    "Create Valid Contract"
   ]
  },
  {
   "cell_type": "code",
   "execution_count": null,
   "metadata": {},
   "outputs": [],
   "source": [
    "# contract = Stock(symbol='AAPL', exchange='SMART', currency='USD')\n",
    "# contract = Future(symbol='RELIANCE', exchange='SGX', currency='INR', lastTradeDateOrContractMonth='20240229', multiplier=20)\n",
    "contract = Option(symbol='AAPL', lastTradeDateOrContractMonth='20240301', strike=180.0, right='C', exchange='SMART', multiplier=100, currency='USD')\n",
    "# contract = Contract(secType='FUT', symbol='RELIANCE', lastTradeDateOrContractMonth='20240229', exchange='SGX', multiplier=20)\n",
    "print(contract)\n",
    "q_con = ib.qualifyContracts(contract)[0]\n",
    "print(q_con)"
   ]
  },
  {
   "cell_type": "markdown",
   "metadata": {},
   "source": [
    "Execute Order"
   ]
  },
  {
   "cell_type": "code",
   "execution_count": null,
   "metadata": {},
   "outputs": [],
   "source": [
    "ord = MarketOrder('BUY', 2)\n",
    "trade = ib.placeOrder(q_con, ord)\n",
    "ib.sleep(1)\n",
    "print(trade)"
   ]
  }
 ],
 "metadata": {
  "language_info": {
   "name": "python"
  }
 },
 "nbformat": 4,
 "nbformat_minor": 2
}
