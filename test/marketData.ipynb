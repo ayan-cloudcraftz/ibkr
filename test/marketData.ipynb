{
 "cells": [
  {
   "cell_type": "code",
   "execution_count": 6,
   "metadata": {},
   "outputs": [
    {
     "name": "stderr",
     "output_type": "stream",
     "text": [
      "Error 200, reqId 3: No security definition has been found for the request, contract: Contract(secType='OPT', symbol='BANKNIFTY', lastTradeDateOrContractMonth='20231026', strike=30000.0, right='C', multiplier='1', exchange='NSE', currency='INR')\n",
      "Unknown contract: Contract(secType='OPT', symbol='BANKNIFTY', lastTradeDateOrContractMonth='20231026', strike=30000.0, right='C', multiplier='1', exchange='NSE', currency='INR')\n"
     ]
    },
    {
     "name": "stdout",
     "output_type": "stream",
     "text": [
      "[]\n"
     ]
    }
   ],
   "source": [
    "from ib_insync import *\n",
    "util.startLoop()\n",
    "\n",
    "ib = IB()\n",
    "ib.connect('127.0.0.1', 7497,  clientId=1000)\n",
    "\n",
    "\n",
    "cd = Contract(secType='OPT', symbol='BANKNIFTY', lastTradeDateOrContractMonth='20231026', strike=30000.0, right='C', multiplier='1', exchange='NSE', currency='INR')\n",
    "q_cd = ib.qualifyContracts(cd)\n",
    "\n",
    "print(q_cd)"
   ]
  },
  {
   "cell_type": "markdown",
   "metadata": {},
   "source": [
    "Portfolio Summary"
   ]
  },
  {
   "cell_type": "code",
   "execution_count": 2,
   "metadata": {},
   "outputs": [
    {
     "name": "stdout",
     "output_type": "stream",
     "text": [
      "      account                                           contract  position  \\\n",
      "0   DU8435231  Future(conId=666932051, symbol='RELIANCE', las...       2.0   \n",
      "1   DU8435231  Option(conId=592409918, symbol='AAPL', lastTra...       1.0   \n",
      "2   DU8435231  Future(conId=603558824, symbol='SPXESUP', last...       1.0   \n",
      "3   DU8435231  Future(conId=533620665, symbol='ES', lastTrade...       1.0   \n",
      "4   DU8435231  Stock(conId=265598, symbol='AAPL', exchange='N...      91.0   \n",
      "5   DU8435231  Option(conId=675808404, symbol='AAPL', lastTra...      14.0   \n",
      "6   DU8435231  Option(conId=669108902, symbol='BANKNIFTY', la...     -30.0   \n",
      "7   DU8435231  Option(conId=669108933, symbol='BANKNIFTY', la...     -15.0   \n",
      "8   DU8435231  Option(conId=669108938, symbol='BANKNIFTY', la...     -15.0   \n",
      "9   DU8435231  Option(conId=677038993, symbol='AAPL', lastTra...       9.0   \n",
      "10  DU8435231  Stock(conId=44652000, symbol='RELIANCE', excha...     100.0   \n",
      "11  DU8435231  Option(conId=669108905, symbol='BANKNIFTY', la...     -30.0   \n",
      "\n",
      "          avgCost  \n",
      "0    58652.892500  \n",
      "1      145.675200  \n",
      "2   222432.452500  \n",
      "3   252214.952500  \n",
      "4      184.921220  \n",
      "5     1260.162864  \n",
      "6      582.299532  \n",
      "7      566.734455  \n",
      "8      446.511096  \n",
      "9      412.874344  \n",
      "10    2949.337523  \n",
      "11     377.280229  \n"
     ]
    }
   ],
   "source": [
    "import pandas as pd\n",
    "portfolioData = ib.reqPositions()\n",
    "# print(data)\n",
    "\n",
    "portfolioDf = pd.DataFrame(portfolioData)\n",
    "print(portfolioDf)"
   ]
  },
  {
   "cell_type": "code",
   "execution_count": 3,
   "metadata": {},
   "outputs": [
    {
     "name": "stdout",
     "output_type": "stream",
     "text": [
      "Option(conId=675808404, symbol='AAPL', lastTradeDateOrContractMonth='20240223', strike=170.0, right='C', multiplier='100', exchange='CBOE', currency='USD', localSymbol='AAPL  240223C00170000', tradingClass='AAPL')\n"
     ]
    }
   ],
   "source": [
    "# c = ib.qualifyContracts(portfolioDf.iloc[5]['contract'])[0]\n",
    "c = portfolioDf.iloc[5]['contract']\n",
    "c.exchange = 'CBOE'\n",
    "print(c)"
   ]
  },
  {
   "cell_type": "markdown",
   "metadata": {},
   "source": [
    "Market Data"
   ]
  },
  {
   "cell_type": "code",
   "execution_count": 2,
   "metadata": {},
   "outputs": [
    {
     "name": "stdout",
     "output_type": "stream",
     "text": [
      "Ticker(contract=Contract(secType='OPT', conId=623136456, symbol='BANKNIFTY', lastTradeDateOrContractMonth='20240328', strike=30000.0, right='C', multiplier='1', exchange='NSE', currency='INR', localSymbol='BANKNIFTY24MAR30000CE', tradingClass='BANKNIFTY'))\n"
     ]
    }
   ],
   "source": [
    "ib.reqMarketDataType(4)\n",
    "data = ib.reqMktData(contract=q_cd, genericTickList='', snapshot=False, regulatorySnapshot=False, mktDataOptions=[])\n",
    "print(data)"
   ]
  },
  {
   "cell_type": "code",
   "execution_count": 28,
   "metadata": {},
   "outputs": [
    {
     "data": {
      "text/plain": [
       "0.9961444712558022"
      ]
     },
     "execution_count": 28,
     "metadata": {},
     "output_type": "execute_result"
    }
   ],
   "source": [
    "data.modelGreeks.delta"
   ]
  },
  {
   "cell_type": "code",
   "execution_count": 29,
   "metadata": {},
   "outputs": [
    {
     "data": {
      "text/plain": [
       "0.0014857486479442628"
      ]
     },
     "execution_count": 29,
     "metadata": {},
     "output_type": "execute_result"
    }
   ],
   "source": [
    "data.modelGreeks.vega"
   ]
  },
  {
   "cell_type": "code",
   "execution_count": null,
   "metadata": {},
   "outputs": [],
   "source": []
  }
 ],
 "metadata": {
  "kernelspec": {
   "display_name": "env",
   "language": "python",
   "name": "python3"
  },
  "language_info": {
   "codemirror_mode": {
    "name": "ipython",
    "version": 3
   },
   "file_extension": ".py",
   "mimetype": "text/x-python",
   "name": "python",
   "nbconvert_exporter": "python",
   "pygments_lexer": "ipython3",
   "version": "3.8.16"
  }
 },
 "nbformat": 4,
 "nbformat_minor": 2
}
